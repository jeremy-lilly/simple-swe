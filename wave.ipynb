{
 "cells": [
  {
   "cell_type": "markdown",
   "id": "968b087c-a261-4d24-bd01-2c488b4fae88",
   "metadata": {},
   "source": [
    "Solving 2D, Linearized SWE Gravity Wave Subsystem:\n",
    "\\begin{align*}\n",
    "\\partial_t u &= -c\\ \\partial_x h \\\\\n",
    "\\partial_t v &= -c\\ \\partial_y h \\\\\n",
    "\\partial_t h &= -c\\ \\left( \\partial_x u + \\partial_y v \\right) \\,.\n",
    "\\end{align*}\n",
    "\n",
    "Assuming the appropriate smoothness, we can write the above as the two-way wave equation in 2D:\n",
    "$$ \\partial_t^2 h = c^2\\ \\Delta h \\,. $$"
   ]
  },
  {
   "cell_type": "code",
   "execution_count": 1,
   "id": "481ea2e7-4e59-4a08-b927-724f9326e3d2",
   "metadata": {},
   "outputs": [],
   "source": [
    "import numpy as np\n",
    "import matplotlib.pyplot as plt"
   ]
  },
  {
   "cell_type": "code",
   "execution_count": 2,
   "id": "a7433299-652f-4bf7-a495-fb4109ad88a0",
   "metadata": {},
   "outputs": [],
   "source": [
    "# setup state\n",
    "\n",
    "class State:\n",
    "    def __init__(self):\n",
    "        self.u = np.zeros([M, N])  # x-velocity\n",
    "        self.v = np.zeros([M, N])  # y-velocity\n",
    "        self.h = np.zeros([M, N])  # mass\n",
    "    # END __init__()\n",
    "\n",
    "    def __add__(self, other):\n",
    "        new = State()\n",
    "        new.u = self.u + other.u\n",
    "        new.v = self.v + other.v\n",
    "        new.h = self.h + other.h\n",
    "        return new\n",
    "    # END __add__()\n",
    "\n",
    "    def __mul__(self, other):\n",
    "        new = State()\n",
    "        new.u = other * self.u\n",
    "        new.v = other * self.v\n",
    "        new.h = other * self.h\n",
    "        return new\n",
    "    # END __mul__()\n",
    "    __rmul__ = __mul__\n",
    "# END class State"
   ]
  },
  {
   "cell_type": "code",
   "execution_count": 3,
   "id": "ea91006c-9746-4f65-968e-e37fa025e4f1",
   "metadata": {},
   "outputs": [],
   "source": [
    "# loop based tendency routine\n",
    "\n",
    "def rhs(state):\n",
    "    rhs = State()\n",
    "\n",
    "    for i in range(1, M-1):\n",
    "        for j in range(1, N-1):\n",
    "            rhs.u[i,j] = state.h[i+1,j] - state.h[i-1,j]\n",
    "            rhs.v[i,j] = state.h[i,j+1] - state.h[i,j-1]\n",
    "            rhs.h[i,j] = ( state.u[i+1,j] - state.u[i-1,j] ) / dx + \\\n",
    "                         ( state.v[i,j+1] - state.v[i,j-1] ) / dy\n",
    "        # END for\n",
    "    # END for\n",
    "\n",
    "    rhs.u = ( -c / (2*dx) ) * rhs.u\n",
    "    rhs.v = ( -c / (2*dy) ) * rhs.v\n",
    "    rhs.h = ( -c / 2 ) * rhs.h\n",
    "\n",
    "    return rhs\n",
    "# END rhs()"
   ]
  },
  {
   "cell_type": "code",
   "execution_count": 4,
   "id": "a925c507-1e3a-4df1-ac64-feaa0eab2b28",
   "metadata": {},
   "outputs": [],
   "source": [
    "# RK4\n",
    "\n",
    "def RK4step(state):\n",
    "    s1 = rhs(state)\n",
    "\n",
    "    s2 = rhs( state + (dt/2)*s1 )\n",
    "\n",
    "    s3 = rhs( state + (dt/2)*s2 )\n",
    "\n",
    "    s4 = rhs( state + dt*s3 )\n",
    "\n",
    "    return ( state + (dt/6)*( s1 + 2*s2 + 2*s3 + s4 ) )\n",
    "# END RK4"
   ]
  },
  {
   "cell_type": "code",
   "execution_count": 42,
   "id": "e6979296-325f-422b-bd7f-99b91e5e9c35",
   "metadata": {},
   "outputs": [],
   "source": [
    "### setup parameters\n",
    "\n",
    "c = 1  # wave propigation speed\n",
    "\n",
    "\n",
    "### setup uniform cartesian grid \n",
    "\n",
    "dx = 0.05\n",
    "dy = 0.05\n",
    "\n",
    "xgrid = np.arange(0, 1+dx, dx)\n",
    "ygrid = np.arange(0, 1+dy, dy)\n",
    "\n",
    "x, y = np.meshgrid(xgrid, ygrid)\n",
    "\n",
    "M = len(xgrid)\n",
    "N = len(ygrid)\n",
    "\n",
    "\n",
    "### setup time-stepping\n",
    "\n",
    "dt = 0.01\n",
    "nsteps = 20\n",
    "\n",
    "\n",
    "### create state and initialize \n",
    "\n",
    "state = State()\n",
    "state.h = 0.1 * np.exp( -25*( (x - 0.5)**2 + (y - 0.5)**2 ) )"
   ]
  },
  {
   "cell_type": "code",
   "execution_count": 43,
   "id": "ec563144-cfea-442c-afc0-8f0acd8a3dd0",
   "metadata": {},
   "outputs": [],
   "source": [
    "# time-step with RK4\n",
    "\n",
    "for step in range(0, nsteps):\n",
    "    state = RK4step(state)\n",
    "# END for"
   ]
  },
  {
   "cell_type": "code",
   "execution_count": 54,
   "id": "731343de-bace-4941-a34e-d6968dce192b",
   "metadata": {},
   "outputs": [
    {
     "data": {
      "image/png": "[encoded data removed]",
      "text/plain": [
       "<Figure size 640x480 with 2 Axes>"
      ]
     },
     "metadata": {},
     "output_type": "display_data"
    }
   ],
   "source": [
    "# visualization\n",
    "\n",
    "fig, ax = plt.subplots()\n",
    "cs = ax.contourf(x, y, state.h, vmin=0, vmax=0.1)\n",
    "\n",
    "ax.set_xlim(0, 1)\n",
    "ax.set_ylim(0, 1)\n",
    "ax.set_xlabel('x')\n",
    "ax.set_ylabel('y')\n",
    "\n",
    "ax.set_aspect('equal')\n",
    "\n",
    "cbar = fig.colorbar(cs)\n",
    "cbar.set_label('h')\n",
    "\n",
    "\n",
    "plt.show()"
   ]
  },
  {
   "cell_type": "code",
   "execution_count": null,
   "id": "8fc56e8e-6815-4dff-872b-b0cf76e89675",
   "metadata": {},
   "outputs": [],
   "source": []
  },
  {
   "cell_type": "code",
   "execution_count": null,
   "id": "d67da273-f53f-499d-a237-18bf7db7db75",
   "metadata": {},
   "outputs": [],
   "source": []
  }
 ],
 "metadata": {
  "kernelspec": {
   "display_name": "Python 3 (ipykernel)",
   "language": "python",
   "name": "python3"
  },
  "language_info": {
   "codemirror_mode": {
    "name": "ipython",
    "version": 3
   },
   "file_extension": ".py",
   "mimetype": "text/x-python",
   "name": "python",
   "nbconvert_exporter": "python",
   "pygments_lexer": "ipython3",
   "version": "3.12.5"
  }
 },
 "nbformat": 4,
 "nbformat_minor": 5
}
