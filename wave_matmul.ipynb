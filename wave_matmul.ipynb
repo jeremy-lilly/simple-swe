{
 "cells": [
  {
   "cell_type": "markdown",
   "id": "968b087c-a261-4d24-bd01-2c488b4fae88",
   "metadata": {},
   "source": [
    "Solving 2D, Linearized SWE Gravity Wave Subsystem:\n",
    "\\begin{align*}\n",
    "\\partial_t u &= -c\\ \\partial_x h \\\\\n",
    "\\partial_t v &= -c\\ \\partial_y h \\\\\n",
    "\\partial_t h &= -c\\ \\left( \\partial_x u + \\partial_y v \\right) \\,.\n",
    "\\end{align*}\n",
    "\n",
    "Assuming the appropriate smoothness, we can write the above as the two-way wave equation in 2D:\n",
    "$$ \\partial_t^2 h = c^2\\ \\Delta h \\,. $$"
   ]
  },
  {
   "cell_type": "code",
   "execution_count": 1,
   "id": "481ea2e7-4e59-4a08-b927-724f9326e3d2",
   "metadata": {},
   "outputs": [],
   "source": [
    "import numpy as np\n",
    "import matplotlib.pyplot as plt"
   ]
  },
  {
   "cell_type": "code",
   "execution_count": 2,
   "id": "44884b7f-57e4-444e-aa1a-36738e100964",
   "metadata": {},
   "outputs": [],
   "source": [
    "# setup parameters\n",
    "c = 1  # wave propigation speed\n",
    "\n",
    "\n",
    "#setup uniform cartesian grid\n",
    "xmax = 2\n",
    "ymax = 1\n",
    "\n",
    "dx = 0.05\n",
    "dy = 0.05\n",
    "\n",
    "xgrid = np.arange(0, xmax+dx, dx)\n",
    "ygrid = np.arange(0, ymax+dy, dy)\n",
    "\n",
    "x, y = np.meshgrid(xgrid, ygrid)\n",
    "\n",
    "N = len(xgrid)\n",
    "M = len(ygrid)"
   ]
  },
  {
   "cell_type": "code",
   "execution_count": 3,
   "id": "49c50dba-c09e-471e-915e-7c8155dcd88a",
   "metadata": {},
   "outputs": [],
   "source": [
    "# build the RHS operators as M*N X M*N matricies\n",
    "Dx = np.zeros([M*N, M*N])\n",
    "Dy = np.zeros([M*N, M*N])\n",
    "\n",
    "for i in range(1, M-1):\n",
    "    for j in range(1, N-1):\n",
    "        Dx[N*i + j, N*i + (j-1)] = -1\n",
    "        Dx[N*i + j, N*i + (j+1)] = 1\n",
    "        \n",
    "        Dy[N*i + j, N*(i-1) + j] = -1 \n",
    "        Dy[N*i + j, N*(i+1) + j] = 1\n",
    "    # END for\n",
    "# END for\n",
    "\n",
    "Dx = Dx / (2*dx)\n",
    "Dy = Dy / (2*dy)"
   ]
  },
  {
   "cell_type": "code",
   "execution_count": 4,
   "id": "ea91006c-9746-4f65-968e-e37fa025e4f1",
   "metadata": {},
   "outputs": [],
   "source": [
    "#  matrix operator tendency routine\n",
    "\n",
    "def rhs(state):\n",
    "    rhs = np.zeros([3, M*N])\n",
    "\n",
    "    rhs[0] = -c * Dx @ state[2, :]\n",
    "    rhs[1] = -c * Dy @ state[2, :]\n",
    "    rhs[2] = -c * ( Dx @ state[0, :] + \n",
    "                    Dy @ state[1, :] )\n",
    "\n",
    "    return rhs\n",
    "# END rhs()"
   ]
  },
  {
   "cell_type": "code",
   "execution_count": 5,
   "id": "a925c507-1e3a-4df1-ac64-feaa0eab2b28",
   "metadata": {},
   "outputs": [],
   "source": [
    "# RK4\n",
    "\n",
    "def RK4step(state):\n",
    "    s1 = rhs(state)\n",
    "\n",
    "    s2 = rhs( state + (dt/2)*s1 )\n",
    "\n",
    "    s3 = rhs( state + (dt/2)*s2 )\n",
    "\n",
    "    s4 = rhs( state + dt*s3 )\n",
    "\n",
    "    return ( state + (dt/6)*( s1 + 2*s2 + 2*s3 + s4 ) )\n",
    "# END RK4"
   ]
  },
  {
   "cell_type": "code",
   "execution_count": 6,
   "id": "ec563144-cfea-442c-afc0-8f0acd8a3dd0",
   "metadata": {},
   "outputs": [],
   "source": [
    "# make a 2 X 3 X M*N array, where \n",
    "# indexes along the first axis are time levels\n",
    "# indexes along the second axis are \n",
    "#     0: u\n",
    "#     1: v\n",
    "#     2: h\n",
    "# Along the third axis, we can index as [:, M*i + j] to get \n",
    "# the 'i-jth entry' in the variable 'matrix'\n",
    "state = np.zeros([2, 3, M*N])\n",
    "\n",
    "# initial condition\n",
    "gBumpHeight = 0.1\n",
    "gBump = gBumpHeight * np.exp( -25*( (x - xmax/2)**2 + (y - ymax/2)**2 ) )\n",
    "\n",
    "state[0, 2, :] = gBump.reshape([M*N])\n",
    "\n",
    "# time-stepping\n",
    "dt = 0.01\n",
    "nsteps =30\n",
    "\n",
    "for step in range(0, nsteps):\n",
    "    state[(step+1)%2, :, :] = RK4step(state[step%2, :, :])\n",
    "# END for"
   ]
  },
  {
   "cell_type": "code",
   "execution_count": 7,
   "id": "731343de-bace-4941-a34e-d6968dce192b",
   "metadata": {},
   "outputs": [
    {
     "data": {
      "image/png": "[encoded data removed]",
      "text/plain": [
       "<Figure size 640x480 with 2 Axes>"
      ]
     },
     "metadata": {},
     "output_type": "display_data"
    }
   ],
   "source": [
    "# visualization\n",
    "\n",
    "h = state[nsteps%2, 2, :].reshape([M, N])\n",
    "\n",
    "fig, ax = plt.subplots()\n",
    "cs = ax.contourf(x, y, h)\n",
    "\n",
    "ax.set_xlim(0, xmax)\n",
    "ax.set_ylim(0, ymax)\n",
    "ax.set_xlabel('x')\n",
    "ax.set_ylabel('y')\n",
    "\n",
    "ax.set_aspect('equal')\n",
    "\n",
    "cbar = fig.colorbar(cs)\n",
    "cbar.set_label('h')\n",
    "\n",
    "\n",
    "plt.show()"
   ]
  },
  {
   "cell_type": "code",
   "execution_count": null,
   "id": "8fc56e8e-6815-4dff-872b-b0cf76e89675",
   "metadata": {},
   "outputs": [],
   "source": []
  }
 ],
 "metadata": {
  "kernelspec": {
   "display_name": "Python 3 (ipykernel)",
   "language": "python",
   "name": "python3"
  },
  "language_info": {
   "codemirror_mode": {
    "name": "ipython",
    "version": 3
   },
   "file_extension": ".py",
   "mimetype": "text/x-python",
   "name": "python",
   "nbconvert_exporter": "python",
   "pygments_lexer": "ipython3",
   "version": "3.12.4"
  }
 },
 "nbformat": 4,
 "nbformat_minor": 5
}
