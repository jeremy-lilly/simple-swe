{
 "cells": [
  {
   "cell_type": "markdown",
   "id": "b2f22928-6261-4267-9dd7-038b4567d59f",
   "metadata": {},
   "source": [
    "# SWE gravity wave via tensor train (TT)\n",
    "\n",
    "We will solve the 2D, linearized SWE (dimensionless) gravity wave subsystem:\n",
    "\\begin{align*}\n",
    "\\partial_t u &= -c\\ \\partial_x h \\\\\n",
    "\\partial_t v &= -c\\ \\partial_y h \\\\\n",
    "\\partial_t h &= -c\\ \\left( \\partial_x u + \\partial_y v \\right) \\,,\n",
    "\\end{align*}\n",
    "where $ c $ is the wave propigation speed, \n",
    "$ u $ is the fluid velocity in the $ x $-direction,\n",
    "$ v $ is the fluid velocity in the $ y $-direction,\n",
    "and $ h $ is the fluid layer thickness.\n",
    "Note that all qauntities are dimensionless.\n",
    "\n",
    "Assuming the appropriate smoothness, we can write the above as the wave equation in 2D:\n",
    "$$ \\partial_t^2 h = c^2\\ \\Delta h \\,. $$\n",
    "\n",
    "For simplicity, we will solve this system with a centered finite difference discretization in space and a Runge-Kutta time-discretization.\n",
    "The domain is a simple rectangular, cartesian grid.\n",
    "Finally, we assume no-flow boundary conditions (i.e. zero boundary conditions)."
   ]
  },
  {
   "cell_type": "code",
   "execution_count": 1,
   "id": "481ea2e7-4e59-4a08-b927-724f9326e3d2",
   "metadata": {},
   "outputs": [],
   "source": [
    "import math\n",
    "import matplotlib.pyplot as plt\n",
    "import numpy as np\n",
    "import torch\n",
    "import torchtt as tt\n",
    "\n",
    "from timer import Timer"
   ]
  },
  {
   "cell_type": "markdown",
   "id": "b5720c35-a393-4640-ae8b-4e3a8df1ed67",
   "metadata": {},
   "source": [
    "Set up parameters and a rectangular grid for the problem. Since we are aiming for a quantized tensor train formulation of the problem, we will force a grid size that is a power of 2.\n",
    "\n",
    "This also defines the shape of our tensors. Say that the grid has size $ 2^L $, then the TT tensors will have shape `[2] * L` and our TT operators will have shape `[(2, 2)] * L`.\n",
    "\n",
    "Throughout, we will differentiate between **TT tensors** and **TT operators**. TT tensors are analogous to vectors, and are indexed by a 1D multi-index of dimension $ \\tilde{M} $, $ \\mathbf{i} = (i_1, \\cdots, i_{\\tilde{M}}) $. TT operators are analogous to matrices and are indexed by a 2D multi-index with $ \\tilde{M} $ ''rows'' and $ \\tilde{N} $ ''columns'', $ \\mathbf{i} \\times \\mathbf{j} = (i_1, \\cdots, i_{\\tilde{M}}) \\times (j_1, \\cdots, j_{\\tilde{N}}) $."
   ]
  },
  {
   "cell_type": "code",
   "execution_count": 2,
   "id": "44884b7f-57e4-444e-aa1a-36738e100964",
   "metadata": {},
   "outputs": [],
   "source": [
    "# parameters\n",
    "c = 1  # wave propigation speed\n",
    "\n",
    "xmin = -1\n",
    "xmax = 2\n",
    "\n",
    "ymin = -1\n",
    "ymax = 1\n",
    "\n",
    "\n",
    "# uniform cartesian grid\n",
    "N = 2**7  # size in x-direction\n",
    "M = 2**6  # size in y-direction\n",
    "\n",
    "xgrid = np.linspace(xmin, xmax, N)\n",
    "ygrid = np.linspace(ymin, ymax, M)\n",
    "\n",
    "x, y = np.meshgrid(xgrid, ygrid)\n",
    "\n",
    "dx = (xmax - xmin) / (N-1)\n",
    "dy = (ymax - ymin) / (M-1)\n",
    "\n",
    "\n",
    "# shapes for QTT representations\n",
    "L = int(math.log(M*N, 2))\n",
    "qtt_tens_shape = [2] * L\n",
    "qtt_op_shape = [(2, 2)] * L"
   ]
  },
  {
   "cell_type": "markdown",
   "id": "166bd796-b2d3-4900-b538-52dc64dbe665",
   "metadata": {},
   "source": [
    "Initially, assume that each of $ u $, $ v $, and $ h $ will be represented as length $ MN $ vectors, given by flattened matrices of their values on the 2D grid. To get the value of a given variable at the `[i, j]` location on the 2D grid, we index our 1D vectors as `[N*i + j]`. Note that these are 0-indexed arrays.\n",
    "\n",
    "Then, we can build the RHS operators as $ MN \\times MN $ matrices. Since we are assuming zero boundary conditions, the boundary values of the operator matrices are set to zero."
   ]
  },
  {
   "cell_type": "code",
   "execution_count": 3,
   "id": "7bd93b46-3444-4181-a431-dd00e5d10fcf",
   "metadata": {},
   "outputs": [],
   "source": [
    "Dx = np.zeros([M*N, M*N])  # d/dx\n",
    "Dy = np.zeros([M*N, M*N])  # d/dy\n",
    "\n",
    "for i in range(1, M-1):\n",
    "    for j in range(1, N-1):\n",
    "        Dx[N*i + j, N*i + (j-1)] = -1\n",
    "        Dx[N*i + j, N*i + (j+1)] = 1\n",
    "        \n",
    "        Dy[N*i + j, N*(i-1) + j] = -1 \n",
    "        Dy[N*i + j, N*(i+1) + j] = 1\n",
    "    # END for\n",
    "# END for\n",
    "\n",
    "Dx = Dx / (2*dx)\n",
    "Dy = Dy / (2*dy)"
   ]
  },
  {
   "cell_type": "markdown",
   "id": "f787440f-0225-4cf1-b00a-58ccd96c5799",
   "metadata": {},
   "source": [
    "Next, we form the QTT representations for these matrix operators using `torchtt`, a tensor train library built on `torch`. As discussed above, these will be TT operators with shape `[(2, 2)] * L`. These TT operators will operate on TT tensors with shape `[2] * L`.\n",
    "\n",
    "As an example, we perform a \"matrix-vector multiply\" between the TT operator for $ \\frac{\\text{d}}{\\text{d}x} $ and the TT tensor represenation of the initial condition for $ h $. This uses the `@` operator defined by `torchtt`, which is a generalization of the martix-vector product. Then, to control the number of ranks in the result, we perform a TT rounding to obtain a lower rank approximation at the default error tolerance `eps=1e-12`. Note the *vastly* improved compression between the rounded and unrounded TT."
   ]
  },
  {
   "cell_type": "code",
   "execution_count": 4,
   "id": "8fcd22e3-f8ac-401d-837a-b76797670857",
   "metadata": {},
   "outputs": [
    {
     "name": "stdout",
     "output_type": "stream",
     "text": [
      "Dx_qtt = \n",
      "TT-matrix with sizes and ranks:\n",
      "M = [2, 2, 2, 2, 2, 2, 2, 2, 2, 2, 2, 2, 2]\n",
      "N = [2, 2, 2, 2, 2, 2, 2, 2, 2, 2, 2, 2, 2]\n",
      "R = [1, np.int64(2), np.int64(3), np.int64(3), np.int64(3), np.int64(2), np.int64(1), 4, np.int64(5), np.int64(5), np.int64(5), np.int64(5), np.int64(2), 1]\n",
      "Device: cpu, dtype: torch.float64\n",
      "#entries 580 compression 8.64267349243164e-06\n",
      "Time to .TT() = 1.1883327960968018\n",
      "\n",
      "gbump_qtt = \n",
      "TT with sizes and ranks:\n",
      "N = [2, 2, 2, 2, 2, 2, 2, 2, 2, 2, 2, 2, 2]\n",
      "R = [1, 2, 4, 8, np.int64(4), np.int64(2), np.int64(1), 2, 4, np.int64(6), 8, 4, 2, 1]\n",
      "\n",
      "Device: cpu, dtype: torch.float64\n",
      "#entries 416 compression 0.05078125\n",
      "Time to .TT() = 0.0007781982421875\n",
      "\n",
      "TT with sizes and ranks:\n",
      "N = [2, 2, 2, 2, 2, 2, 2, 2, 2, 2, 2, 2, 2]\n",
      "R = [1, 4, 12, 24, 12, 4, 1, 8, 20, 30, 40, 20, 4, 1]\n",
      "\n",
      "Device: cpu, dtype: torch.float64\n",
      "#entries 7064 compression 0.8623046875\n",
      "Time to @ = 0.0006470680236816406\n",
      "\n",
      "TT with sizes and ranks:\n",
      "N = [2, 2, 2, 2, 2, 2, 2, 2, 2, 2, 2, 2, 2]\n",
      "R = [1, 2, 4, 8, 4, 2, 1, 2, 4, 6, 8, 4, 2, 1]\n",
      "\n",
      "Device: cpu, dtype: torch.float64\n",
      "#entries 416 compression 0.05078125\n",
      "Time to .round() = 0.0007200241088867188\n",
      "\n"
     ]
    }
   ],
   "source": [
    "# create timer to use in these examples\n",
    "ex_timer = Timer()\n",
    "\n",
    "# form TT operators\n",
    "ex_timer.start()\n",
    "Dx_qtt = tt.TT(Dx, qtt_op_shape)\n",
    "ex_timer.stop()\n",
    "print( 'Dx_qtt = \\n{}Time to .TT() = {}\\n'.format(Dx_qtt, \n",
    "                                                  ex_timer.get_time_reset()) )\n",
    "\n",
    "Dy_qtt = tt.TT(Dy, qtt_op_shape)\n",
    "\n",
    "\n",
    "# build initial condition for h\n",
    "# Gaussian bump centered in the domain\n",
    "gbump_height = 0.1\n",
    "gbump = gbump_height * np.exp( -25*( (x - (xmax+xmin)/2)**2 + (y - (ymax+ymin)/2)**2 ) )\n",
    "\n",
    "ex_timer.start()\n",
    "gbump_qtt = tt.TT(gbump, qtt_tens_shape)\n",
    "ex_timer.stop()\n",
    "print( 'gbump_qtt = \\n{}Time to .TT() = {}\\n'.format(gbump_qtt, \n",
    "                                                     ex_timer.get_time_reset()) )\n",
    "\n",
    "\n",
    "# example multiplication and TT rounding\n",
    "ex_timer.start()\n",
    "mult_example = Dx_qtt @ gbump_qtt\n",
    "ex_timer.stop()\n",
    "print( '{}Time to @ = {}\\n'.format(mult_example, \n",
    "                                   ex_timer.get_time_reset()) )\n",
    "\n",
    "ex_timer.start()\n",
    "mult_example_round = mult_example.round()\n",
    "ex_timer.stop()\n",
    "print( '{}Time to .round() = {}\\n'.format(mult_example_round, \n",
    "                                          ex_timer.get_time_reset()) )"
   ]
  },
  {
   "cell_type": "code",
   "execution_count": 5,
   "id": "4b4e3dd6-8a31-4dd5-a1f2-2569ee0a44ee",
   "metadata": {},
   "outputs": [],
   "source": [
    "# create the state variable(s)\n",
    "# make a 2 X 3 ndarray, where \n",
    "# indexes along the first axis are time levels\n",
    "# indexes along the second axis are \n",
    "#     0: u\n",
    "#     1: v\n",
    "#     2: h\n",
    "# each entry in this matrix is the TT representaion\n",
    "# of the given variable at the given time-level\n",
    "state = np.full( [2, 3], tt.zeros(qtt_tens_shape) )\n",
    "\n",
    "\n",
    "#  matrix operator tendency routine\n",
    "def rhs_qtt(state):\n",
    "    rhs = np.full( 3, tt.zeros(qtt_tens_shape) )\n",
    "\n",
    "    rhs[0] = ( -c * Dx_qtt @ state[2] ).round()\n",
    "    rhs[1] = ( -c * Dy_qtt @ state[2] ).round()\n",
    "    rhs[2] = ( -c * ( Dx_qtt @ state[0] + \n",
    "                      Dy_qtt @ state[1] ) ).round()\n",
    "\n",
    "    return rhs\n",
    "# END rhs_qtt()\n",
    "\n",
    "\n",
    "# RK4\n",
    "def rk4_step(state, rhs):\n",
    "    s1 = rhs(state)\n",
    "\n",
    "    s2 = rhs( state + (dt/2)*s1 )\n",
    "\n",
    "    s3 = rhs( state + (dt/2)*s2 )\n",
    "\n",
    "    s4 = rhs( state + dt*s3 )\n",
    "\n",
    "    return ( state + (dt/6)*( s1 + 2*s2 + 2*s3 + s4 ) )\n",
    "# END rk4_step()"
   ]
  },
  {
   "cell_type": "markdown",
   "id": "055c0123-08c4-41c7-8a92-939213850453",
   "metadata": {},
   "source": [
    "We set the initial condition as a Gaussian bump of a given height centered in the domain, then begin time-stepping with RK4."
   ]
  },
  {
   "cell_type": "code",
   "execution_count": 6,
   "id": "ec563144-cfea-442c-afc0-8f0acd8a3dd0",
   "metadata": {},
   "outputs": [],
   "source": [
    "# initial conditions\n",
    "state[0, 0] = tt.zeros(qtt_tens_shape)\n",
    "state[0, 1] = tt.zeros(qtt_tens_shape)\n",
    "state[0, 2] = tt.TT(gbump, qtt_tens_shape)\n",
    "\n",
    "# time-stepping\n",
    "dt = 0.01\n",
    "nsteps = 70\n",
    "\n",
    "for istep in range(0, nsteps):\n",
    "    state[(istep+1)%2, :] = rk4_step(state[istep%2, :], rhs_qtt)\n",
    "\n",
    "    # after each time-step, perform a TT round on each variable\n",
    "    for n in range(0, 3):\n",
    "        state[(istep+1)%2, n] = state[(istep+1)%2, n].round()\n",
    "    # END for\n",
    "# END for"
   ]
  },
  {
   "cell_type": "markdown",
   "id": "625b9509-8d22-4ac8-9f40-4793c8141514",
   "metadata": {},
   "source": [
    "Notes\n",
    "- Home machine crashed without applying rounding after each RHS multiplication -- 30+ GB of memory usage. Seems to cap at a very resonable value if we round after each `@`.\n",
    "    - Additionally, things are *very* slow if we don't round after every `@` -- for now, we are rounding after each `@` and after each time-step.\n",
    "- We can acheive a QTT representation (it seems) via `tt.TT(tens).to_qtt()` if `tens` is the right size. We will explicitly pass in the shape we want rather than using `TT.to_qtt()` for now -- passing in the correct shape gives equivalent results.\n",
    "- We have a problem where we are getting negative values at/near the boundary in the first few time-steps (e.g. run with `nsteps = 1`), probably due to the TT error. Not sure how to deal with that yet. It could be that we need a more sophisticated underlying spatial discretization.\n",
    "\n",
    "TODO\n",
    "- Timers"
   ]
  },
  {
   "cell_type": "code",
   "execution_count": 7,
   "id": "731343de-bace-4941-a34e-d6968dce192b",
   "metadata": {},
   "outputs": [
    {
     "data": {
      "image/png": "[encoded data removed]",
      "text/plain": [
       "<Figure size 1600x900 with 4 Axes>"
      ]
     },
     "metadata": {},
     "output_type": "display_data"
    }
   ],
   "source": [
    "# visualization\n",
    "h = tt.TT.full( state[nsteps%2, 2] ).numpy().reshape([M, N])\n",
    "\n",
    "fig, axes = plt.subplots(1, 2, figsize=[16,9])\n",
    "\n",
    "#csInitial = axes[0].pcolormesh(x, y, gbump)\n",
    "#csFinal = axes[1].pcolormesh(x, y, h)\n",
    "csInitial = axes[0].contourf(x, y, gbump)\n",
    "csFinal = axes[1].contourf(x, y, h)\n",
    "\n",
    "axes[0].set_xlim(xmin, xmax)\n",
    "axes[0].set_ylim(ymin, ymax)\n",
    "axes[0].set_xlabel('x')\n",
    "axes[0].set_ylabel('y')\n",
    "axes[0].set_aspect('equal')\n",
    "axes[0].set_title('time t = 0')\n",
    "\n",
    "axes[1].set_xlim(xmin, xmax)\n",
    "axes[1].set_ylim(ymin, ymax)\n",
    "axes[1].set_xlabel('x')\n",
    "axes[1].set_ylabel('y')\n",
    "axes[1].set_aspect('equal')\n",
    "axes[1].set_title('time t = {:.2}'.format(dt*nsteps))\n",
    "\n",
    "cbarInitial = fig.colorbar(csInitial)\n",
    "cbarInitial.set_label('h')\n",
    "\n",
    "cbarFinal = fig.colorbar(csFinal)\n",
    "cbarFinal.set_label('h')\n",
    "\n",
    "fig.tight_layout()\n",
    "plt.show()"
   ]
  },
  {
   "cell_type": "code",
   "execution_count": 8,
   "id": "d8e5a5b9-ff70-4150-a953-2a6232066866",
   "metadata": {},
   "outputs": [
    {
     "name": "stdout",
     "output_type": "stream",
     "text": [
      "5.170985802374829e-37\n",
      "-0.011504495687454758\n"
     ]
    }
   ],
   "source": [
    "print( gbump.min() )\n",
    "print( h.min() )"
   ]
  },
  {
   "cell_type": "code",
   "execution_count": null,
   "id": "629f24b8-0e5e-448a-9d2d-00a369c6d7d2",
   "metadata": {},
   "outputs": [],
   "source": []
  }
 ],
 "metadata": {
  "kernelspec": {
   "display_name": "Python 3 (ipykernel)",
   "language": "python",
   "name": "python3"
  },
  "language_info": {
   "codemirror_mode": {
    "name": "ipython",
    "version": 3
   },
   "file_extension": ".py",
   "mimetype": "text/x-python",
   "name": "python",
   "nbconvert_exporter": "python",
   "pygments_lexer": "ipython3",
   "version": "3.12.6"
  }
 },
 "nbformat": 4,
 "nbformat_minor": 5
}
